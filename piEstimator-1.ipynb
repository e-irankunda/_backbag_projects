{
 "cells": [
  {
   "cell_type": "code",
   "execution_count": 1,
   "id": "053e762c-0224-425a-8fbb-42a2152aa757",
   "metadata": {},
   "outputs": [
    {
     "name": "stdout",
     "output_type": "stream",
     "text": [
      "Enter the number of trials you want to perform:4875879\n",
      "Enter the radius you want to use:56\n",
      "PI estimates to 3.142652227424019, after 4875879 simulations.\n",
      "The real value of PI = 3.141592653589793\n",
      "\n",
      "The margin error = -0.0337272826575819 %\n",
      "The elapsed time for calculations = 10.81624460220337 s\n"
     ]
    }
   ],
   "source": [
    "# CARLO MONTE METHOD TO ESTIMATE PI\n",
    "import numpy as np\n",
    "import time\n",
    "import random\n",
    "\n",
    "withinCount = 0\n",
    "\n",
    "maxTrials = int(input('Enter the number of trials you want to perform:'))\n",
    "radius = int(input('Enter the radius you want to use:'))\n",
    "\n",
    "tInitial = time.time()\n",
    "\n",
    "for trial in range(maxTrials):\n",
    "    x = random.uniform(-1*radius, radius)\n",
    "    y = random.uniform(-1*radius, radius)\n",
    "    \n",
    "    if np.sqrt(x**2 + y**2) < radius:\n",
    "        withinCount += 1\n",
    "        \n",
    "    #piValue.append(4 * withinCount / maxTrials)\n",
    "    \n",
    "    \n",
    "tFinal = time.time()\n",
    "\n",
    "piEstim = 4 * withinCount / maxTrials\n",
    "print(f'PI estimates to {piEstim}, after {maxTrials} simulations.')\n",
    "print(f'The real value of PI = {np.pi}')\n",
    "print()\n",
    "\n",
    "#how close is the estimated pi value to the actual pi\n",
    "percentError= 100*(np.pi-piEstim)/np.pi\n",
    "print(f'The margin error = {percentError} %')\n",
    "\n",
    "#how time does it take to run all the process?\n",
    "timing = tFinal - tInitial\n",
    "print(f'The elapsed time for calculations = {timing} s')\n",
    "    "
   ]
  },
  {
   "cell_type": "code",
   "execution_count": null,
   "id": "876b8c8a-4810-4aa0-b2ab-66acdc5227e0",
   "metadata": {},
   "outputs": [],
   "source": []
  }
 ],
 "metadata": {
  "kernelspec": {
   "display_name": "Python 3 (ipykernel)",
   "language": "python",
   "name": "python3"
  },
  "language_info": {
   "codemirror_mode": {
    "name": "ipython",
    "version": 3
   },
   "file_extension": ".py",
   "mimetype": "text/x-python",
   "name": "python",
   "nbconvert_exporter": "python",
   "pygments_lexer": "ipython3",
   "version": "3.9.13"
  }
 },
 "nbformat": 4,
 "nbformat_minor": 5
}
