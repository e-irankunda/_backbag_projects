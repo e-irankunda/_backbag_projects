{
 "cells": [
  {
   "cell_type": "code",
   "execution_count": 5,
   "id": "0fdff294-d141-435b-835c-323f63922cb4",
   "metadata": {},
   "outputs": [
    {
     "name": "stdin",
     "output_type": "stream",
     "text": [
      "Enter the number of trials you want to perform: 5345\n",
      "Enter the radius you want to use: 34\n"
     ]
    },
    {
     "name": "stdout",
     "output_type": "stream",
     "text": [
      "PI estimates to 3.1289055191768007, after 5345 simulations.\n",
      "The real value of PI = 3.141592653589793\n",
      "\n",
      "The margin error = 0.4038440310998067 %\n",
      "The elapsed time for calculations = 0.015578985214233398\n"
     ]
    },
    {
     "data": {
      "image/png": "[encoded data removed]",
      "text/plain": [
       "<Figure size 640x480 with 1 Axes>"
      ]
     },
     "metadata": {},
     "output_type": "display_data"
    }
   ],
   "source": [
    "import matplotlib.pyplot as plt\n",
    "import numpy as np\n",
    "import random\n",
    "import time\n",
    "\n",
    "piValue = []\n",
    "nTrials = []\n",
    "\n",
    "withinCount = 0\n",
    "k = True\n",
    "\n",
    "while k == True:\n",
    "    try:\n",
    "        maxTrials = int(input('Enter the number of trials you want to perform:'))\n",
    "        radius = int(input('Enter the radius you want to use:'))\n",
    "        k = False\n",
    "        \n",
    "    except:\n",
    "        print('Only integers accepted! Try again...')\n",
    "\n",
    "tInitial = time.time()\n",
    "\n",
    "for trial in range(1,maxTrials):\n",
    "    x = random.uniform(-1*radius, radius)\n",
    "    y = random.uniform(-1*radius, radius)\n",
    "    \n",
    "    if np.sqrt(x**2 + y**2) < radius:\n",
    "        withinCount += 1\n",
    "        \n",
    "    piValue.append(4 * withinCount / trial)\n",
    "    \n",
    "    \n",
    "tFinal = time.time()\n",
    "\n",
    "piEstim = 4 * withinCount / maxTrials\n",
    "print(f'PI estimates to {piEstim}, after {maxTrials} simulations.')\n",
    "print(f'The real value of PI = {np.pi}')\n",
    "print()\n",
    "\n",
    "#how close is the estimated pi value to the actual pi\n",
    "percentError= 100*(np.pi-piEstim)/np.pi\n",
    "print(f'The margin error = {percentError} %')\n",
    "\n",
    "#how time does it take to run all the process?\n",
    "timing = tFinal - tInitial\n",
    "print(f'The elapsed time for calculations = {timing}')\n",
    "\n",
    "#plt.figure(facecolor='#94F008')\n",
    "plt.figure(facecolor = 'yellow')\n",
    "\n",
    "#plt.axes().set_facecolor(\"#1CC4AF\")\n",
    "plt.axes().set_facecolor(color = 'pink')\n",
    "plt.plot(piValue)\n",
    "plt.show()\n",
    "\n"
   ]
  },
  {
   "cell_type": "code",
   "execution_count": null,
   "id": "db447ba9-5d80-4222-be2f-419f02a7befa",
   "metadata": {},
   "outputs": [],
   "source": []
  },
  {
   "cell_type": "code",
   "execution_count": null,
   "id": "e781479e-16c1-44a5-8863-00cd7083be62",
   "metadata": {},
   "outputs": [],
   "source": []
  }
 ],
 "metadata": {
  "kernelspec": {
   "display_name": "Python 3 (ipykernel)",
   "language": "python",
   "name": "python3"
  },
  "language_info": {
   "codemirror_mode": {
    "name": "ipython",
    "version": 3
   },
   "file_extension": ".py",
   "mimetype": "text/x-python",
   "name": "python",
   "nbconvert_exporter": "python",
   "pygments_lexer": "ipython3",
   "version": "3.9.13"
  }
 },
 "nbformat": 4,
 "nbformat_minor": 5
}
